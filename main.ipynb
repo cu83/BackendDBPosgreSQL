{
 "cells": [
  {
   "metadata": {
    "ExecuteTime": {
     "end_time": "2025-08-16T17:50:03.473708Z",
     "start_time": "2025-08-16T17:50:03.353648Z"
    }
   },
   "cell_type": "code",
   "source": [
    "import requests\n",
    "import bs4\n",
    "import psycopg2"
   ],
   "id": "77efc67cc7376518",
   "outputs": [],
   "execution_count": 19
  },
  {
   "metadata": {
    "ExecuteTime": {
     "end_time": "2025-08-16T19:31:10.059061Z",
     "start_time": "2025-08-16T19:31:10.045010Z"
    }
   },
   "cell_type": "code",
   "source": [
    "def get_connection():\n",
    "        conn = psycopg2.connect(\n",
    "                    host=\"localhost\",\n",
    "                    database='books',\n",
    "                    user='postgres',\n",
    "                    password='enginEErloki13#')\n",
    "        return conn\n",
    "\n",
    "def insert_data(book_title):\n",
    "    conn = get_connection()\n",
    "    cur = conn.cursor()\n",
    "\n",
    "    insertsql = f'''INSERT INTO book_info(title) VALUES ('{book_title[0]}') ON CONFLICT (title) DO NOTHING;'''\n",
    "\n",
    "    cur.execute(insertsql)\n",
    "    conn.commit()\n",
    "    cur.close()\n",
    "    conn.close()\n"
   ],
   "id": "dc20530787e72911",
   "outputs": [],
   "execution_count": 86
  },
  {
   "metadata": {
    "ExecuteTime": {
     "end_time": "2025-08-16T19:38:45.380074Z",
     "start_time": "2025-08-16T19:37:29.861532Z"
    }
   },
   "cell_type": "code",
   "source": [
    "base_url = 'http://books.toscrape.com/catalogue/page-{}.html'\n",
    "# two_star_titles = []\n",
    "\n",
    "for i in range(1,51):\n",
    "    scrape_url = base_url.format(i)\n",
    "    response = requests.get(scrape_url)\n",
    "\n",
    "    soup = bs4.BeautifulSoup(response.text, 'lxml')\n",
    "    books = soup.select('.product_pod')\n",
    "\n",
    "    for book in books:\n",
    "        two_star_titles = []\n",
    "        if len(book.select('.star-rating.Five')) != 0:\n",
    "            two_star_titles.append(book.select('a')[1]['title'].replace(\"'\",\"\"))\n",
    "            insert_data(two_star_titles)\n",
    "\n"
   ],
   "id": "93ad53707686c491",
   "outputs": [],
   "execution_count": 91
  },
  {
   "metadata": {
    "ExecuteTime": {
     "end_time": "2025-08-16T19:29:42.978678Z",
     "start_time": "2025-08-16T19:29:42.968925Z"
    }
   },
   "cell_type": "code",
   "source": "len(two_star_titles)",
   "id": "c6700b500e2bc532",
   "outputs": [
    {
     "data": {
      "text/plain": [
       "196"
      ]
     },
     "execution_count": 85,
     "metadata": {},
     "output_type": "execute_result"
    }
   ],
   "execution_count": 85
  }
 ],
 "metadata": {
  "kernelspec": {
   "display_name": "Python 3",
   "language": "python",
   "name": "python3"
  },
  "language_info": {
   "codemirror_mode": {
    "name": "ipython",
    "version": 2
   },
   "file_extension": ".py",
   "mimetype": "text/x-python",
   "name": "python",
   "nbconvert_exporter": "python",
   "pygments_lexer": "ipython2",
   "version": "2.7.6"
  }
 },
 "nbformat": 4,
 "nbformat_minor": 5
}
