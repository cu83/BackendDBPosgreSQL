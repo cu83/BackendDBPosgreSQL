{
 "cells": [
  {
   "metadata": {
    "ExecuteTime": {
     "end_time": "2025-08-17T05:08:37.433341Z",
     "start_time": "2025-08-17T05:08:37.348140Z"
    }
   },
   "cell_type": "code",
   "source": [
    "import requests\n",
    "import bs4\n",
    "import psycopg2\n",
    "import configparser"
   ],
   "id": "77efc67cc7376518",
   "outputs": [],
   "execution_count": 105
  },
  {
   "metadata": {
    "ExecuteTime": {
     "end_time": "2025-08-17T05:23:01.265473Z",
     "start_time": "2025-08-17T05:23:01.198520Z"
    }
   },
   "cell_type": "code",
   "source": [
    "def get_connection():\n",
    "\n",
    "        config = configparser.ConfigParser()\n",
    "        config.read_file(open(r'config.ini'))\n",
    "\n",
    "        DSN = config.get(\"DB\", \"host\")\n",
    "        DB = config.get(\"DB\", \"database\")\n",
    "        UID = config.get(\"DB\", \"user\")\n",
    "        PWD = config.get(\"DB\", \"password\")\n",
    "\n",
    "        conn = psycopg2.connect(\n",
    "                    host=DSN,\n",
    "                    database=DB,\n",
    "                    user=UID,\n",
    "                    password=PWD)\n",
    "        return conn\n",
    "\n",
    "def insert_data(book_title):\n",
    "    conn = get_connection()\n",
    "    cur = conn.cursor()\n",
    "\n",
    "    insertsql = f'''INSERT INTO book_info(title, price) VALUES ('{book_title[0]}', '{book_title[1]}');'''\n",
    "\n",
    "    cur.execute(insertsql)\n",
    "    conn.commit()\n",
    "    cur.close()\n",
    "    conn.close()\n",
    "\n",
    "def truncate_table():\n",
    "    conn = get_connection()\n",
    "    cur = conn.cursor()\n",
    "\n",
    "    truncatesql = f'''TRUNCATE TABLE book_info;'''\n",
    "    cur.execute(truncatesql)\n",
    "\n",
    "    conn.commit()\n",
    "    cur.close()\n",
    "    conn.close()\n"
   ],
   "id": "dc20530787e72911",
   "outputs": [],
   "execution_count": 114
  },
  {
   "metadata": {
    "ExecuteTime": {
     "end_time": "2025-08-17T05:50:54.403713Z",
     "start_time": "2025-08-17T05:49:48.093387Z"
    }
   },
   "cell_type": "code",
   "source": [
    "base_url = 'http://books.toscrape.com/catalogue/page-{}.html'\n",
    "# two_star_titles = []\n",
    "truncate_table()\n",
    "for i in range(1,51):\n",
    "    scrape_url = base_url.format(i)\n",
    "    response = requests.get(scrape_url)\n",
    "\n",
    "    soup = bs4.BeautifulSoup(response.text, 'lxml')\n",
    "    books = soup.select('.product_pod')\n",
    "\n",
    "    for book in books:\n",
    "        two_star_titles = []\n",
    "        if len(book.select('.star-rating.Three')) != 0:\n",
    "            two_star_titles.append(book.select('a')[1]['title'].replace(\"'\",\"\"))\n",
    "            two_star_titles.append(book.select('p')[1].text.replace(\"Â\",\"\"))\n",
    "            insert_data(two_star_titles)\n",
    "\n"
   ],
   "id": "93ad53707686c491",
   "outputs": [],
   "execution_count": 135
  },
  {
   "metadata": {
    "ExecuteTime": {
     "end_time": "2025-08-17T05:43:48.795312Z",
     "start_time": "2025-08-17T05:43:47.633552Z"
    }
   },
   "cell_type": "code",
   "source": [
    "# base_url = 'http://books.toscrape.com/catalogue/page-{}.html'\n",
    "#\n",
    "# scrape_url = base_url.format(1)\n",
    "# response = requests.get(scrape_url)\n",
    "#\n",
    "# soup = bs4.BeautifulSoup(response.text, 'lxml')\n",
    "# books = soup.select('.product_pod')\n",
    "#\n",
    "# books[0].select('p')[1].text"
   ],
   "id": "37943c07a2b241f3",
   "outputs": [
    {
     "data": {
      "text/plain": [
       "'Â£51.77'"
      ]
     },
     "execution_count": 131,
     "metadata": {},
     "output_type": "execute_result"
    }
   ],
   "execution_count": 131
  }
 ],
 "metadata": {
  "kernelspec": {
   "display_name": "Python 3",
   "language": "python",
   "name": "python3"
  },
  "language_info": {
   "codemirror_mode": {
    "name": "ipython",
    "version": 2
   },
   "file_extension": ".py",
   "mimetype": "text/x-python",
   "name": "python",
   "nbconvert_exporter": "python",
   "pygments_lexer": "ipython2",
   "version": "2.7.6"
  }
 },
 "nbformat": 4,
 "nbformat_minor": 5
}
