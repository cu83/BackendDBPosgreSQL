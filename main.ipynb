{
 "cells": [
  {
   "cell_type": "code",
   "id": "initial_id",
   "metadata": {
    "collapsed": true
   },
   "source": "! pip install requests",
   "outputs": [],
   "execution_count": null
  },
  {
   "metadata": {
    "ExecuteTime": {
     "end_time": "2025-08-11T15:18:01.524930Z",
     "start_time": "2025-08-11T15:18:01.087554Z"
    }
   },
   "cell_type": "code",
   "source": "import requests",
   "id": "77efc67cc7376518",
   "outputs": [],
   "execution_count": 2
  },
  {
   "metadata": {
    "ExecuteTime": {
     "end_time": "2025-08-11T15:36:46.712923Z",
     "start_time": "2025-08-11T15:36:46.591313Z"
    }
   },
   "cell_type": "code",
   "source": [
    "base_url = 'https://pokeapi.co/api/v2/'\n",
    "\n",
    "def get_pokemon(name):\n",
    "    url = f'{base_url}/pokemon/{name}'\n",
    "    response = requests.get(url)\n",
    "\n",
    "    if response.status_code == 200:\n",
    "        return response.json()\n",
    "    else:\n",
    "        return f'Failed to retrieve data: {response.status_code}'\n",
    "\n",
    "pokemon_name = 'ditto'\n",
    "pokemon_data = get_pokemon(pokemon_name)\n",
    "print(f\"Name: {pokemon_data['name']} \"\n",
    "      f\"\\nId: {pokemon_data['id']}\"\n",
    "      f\"\\nWeight: {pokemon_data['weight']}kg\",\n",
    "      f\"\\nAbilities: {pokemon_data['moves'][0]['move']['name']}\")\n"
   ],
   "id": "93ad53707686c491",
   "outputs": [
    {
     "name": "stdout",
     "output_type": "stream",
     "text": [
      "Name: ditto \n",
      "Id: 132\n",
      "Weight: 40kg \n",
      "Abilities: transform\n"
     ]
    }
   ],
   "execution_count": 46
  }
 ],
 "metadata": {
  "kernelspec": {
   "display_name": "Python 3",
   "language": "python",
   "name": "python3"
  },
  "language_info": {
   "codemirror_mode": {
    "name": "ipython",
    "version": 2
   },
   "file_extension": ".py",
   "mimetype": "text/x-python",
   "name": "python",
   "nbconvert_exporter": "python",
   "pygments_lexer": "ipython2",
   "version": "2.7.6"
  }
 },
 "nbformat": 4,
 "nbformat_minor": 5
}
